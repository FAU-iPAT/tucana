{
 "cells": [
  {
   "cell_type": "markdown",
   "metadata": {},
   "source": [
    "```\n",
    "Copyright 2018 FAU-iPAT (http://ipat.uni-erlangen.de/)\n",
    "```"
   ]
  },
  {
   "cell_type": "code",
   "execution_count": null,
   "metadata": {},
   "outputs": [],
   "source": [
    "import numpy as np\n",
    "import matplotlib.pyplot as plt\n",
    "from scipy.signal.windows import exponential as poisson"
   ]
  },
  {
   "cell_type": "markdown",
   "metadata": {},
   "source": [
    "# Generate FFT with different noise levels"
   ]
  },
  {
   "cell_type": "code",
   "execution_count": null,
   "metadata": {},
   "outputs": [],
   "source": [
    "def fft(signal):\n",
    "    sig = signal - np.mean(signal)\n",
    "    fft = np.fft.fft(sig) / (len(signal)/2)\n",
    "    return np.split(fft, 2)[0]"
   ]
  },
  {
   "cell_type": "code",
   "execution_count": null,
   "metadata": {},
   "outputs": [],
   "source": [
    "signal = 2.0 * np.pi * np.arange(256) / 256.0\n",
    "signal = 1.0 * np.sin(20.17 * signal + 0.1) + 0.75 * np.cos(50.1 * signal + 0.5) + 0.5 * np.sin(40.5 * signal + 3.2)\n",
    "np.random.seed(42)\n",
    "noise = np.random.uniform(0.0, 1.0, 256)"
   ]
  },
  {
   "cell_type": "code",
   "execution_count": null,
   "metadata": {},
   "outputs": [],
   "source": [
    "def plot_signal_with_noise(signal, noise = None, factor = None):\n",
    "    data = np.abs(fft(signal + factor * noise if noise is not None else signal))\n",
    "    plt.plot(data)\n",
    "    plt.xlabel('Frequency')\n",
    "    plt.ylabel('Amplitude')"
   ]
  },
  {
   "cell_type": "code",
   "execution_count": null,
   "metadata": {},
   "outputs": [],
   "source": [
    "plt.figure(figsize=(20,3))\n",
    "plt.subplot(1,5,1)\n",
    "plot_signal_with_noise(signal, noise, 0.0)\n",
    "plt.subplot(1,5,2)\n",
    "plot_signal_with_noise(signal, noise, 2.0)\n",
    "plt.subplot(1,5,3)\n",
    "plt.title('Frequency spectrum with increasing noise (from left to right)')\n",
    "plot_signal_with_noise(signal, noise, 4.0)\n",
    "plt.subplot(1,5,4)\n",
    "plot_signal_with_noise(signal, noise, 6.0)\n",
    "plt.subplot(1,5,5)\n",
    "plot_signal_with_noise(signal, noise, 8.0)\n",
    "#plt.savefig('./fft_with_noise.png', forrmat='png', dpi=50)\n",
    "plt.show()"
   ]
  },
  {
   "cell_type": "markdown",
   "metadata": {},
   "source": [
    "# Generate FFT to show complex valued results"
   ]
  },
  {
   "cell_type": "code",
   "execution_count": null,
   "metadata": {},
   "outputs": [],
   "source": [
    "plt.figure(figsize=(20,4))\n",
    "\n",
    "plt.subplot(1,4,1)\n",
    "plt.title('Absolute value')\n",
    "data = np.abs(fft(signal))\n",
    "plt.plot(data)\n",
    "plt.xlabel('Frequency')\n",
    "plt.ylabel('Amplitude')\n",
    "plt.ylim(-1.0, 1.0)\n",
    "    \n",
    "plt.subplot(1,4,2)\n",
    "plt.title('Real component')\n",
    "data = np.real(fft(signal))\n",
    "plt.plot(data, 'g')\n",
    "plt.xlabel('Frequency')\n",
    "plt.ylabel('Amplitude')\n",
    "plt.ylim(-1.0, 1.0)\n",
    "\n",
    "plt.subplot(1,4,3)\n",
    "plt.title('Imaginary component')\n",
    "data = np.imag(fft(signal))\n",
    "plt.plot(data, 'r')\n",
    "plt.xlabel('Frequency')\n",
    "plt.ylabel('Amplitude')\n",
    "plt.ylim(-1.0, 1.0)\n",
    "\n",
    "plt.subplot(1,4,4)\n",
    "plt.title('Real+imaginary components')\n",
    "data = np.imag(fft(signal))\n",
    "plt.plot(data, 'r')\n",
    "data = np.real(fft(signal))\n",
    "plt.plot(data, 'g')\n",
    "plt.xlabel('Frequency')\n",
    "plt.ylabel('Amplitude')\n",
    "plt.ylim(-1.0, 1.0)\n",
    "\n",
    "#plt.savefig('./fft_complex.png', forrmat='png', dpi=50)\n",
    "plt.show()"
   ]
  },
  {
   "cell_type": "markdown",
   "metadata": {},
   "source": [
    "# Generate FFT plots for leakage and window functions"
   ]
  },
  {
   "cell_type": "code",
   "execution_count": null,
   "metadata": {},
   "outputs": [],
   "source": [
    "def plot_leakage(offset=0.0, window='rectangle', title=False, xaxis=False, yaxis=False):\n",
    "    signal = 2.0 * np.pi * np.arange(256) / 256.0\n",
    "    signal = 1.0 * np.sin((64.+offset) * signal)\n",
    "    if window == 'hanning':\n",
    "        signal = signal * np.hanning(len(signal))\n",
    "    elif window == 'poisson':\n",
    "        signal = signal * np.asarray(poisson(len(signal), 128, 20, False))\n",
    "    data = np.abs(fft(signal))\n",
    "    if title is True: plt.title('Frequency = {0:4.1F}'.format(64.+offset))\n",
    "    plt.stem(data)\n",
    "    plt.xlim(64-7, 64+7)\n",
    "    if xaxis is True: plt.xlabel('Frequency')\n",
    "    if yaxis is True: plt.ylabel('Amplitude')\n",
    "    #plt.ylim(0.0, 1.0)"
   ]
  },
  {
   "cell_type": "code",
   "execution_count": null,
   "metadata": {},
   "outputs": [],
   "source": [
    "plt.figure(figsize=(20,9))\n",
    "\n",
    "plt.subplot(3,5,1)\n",
    "plot_leakage(-0.4, title=True, yaxis=True)\n",
    "plt.subplot(3,5,2)\n",
    "plot_leakage(-0.2, title=True)\n",
    "plt.subplot(3,5,3)\n",
    "plot_leakage(-0.0, title=True)\n",
    "plt.subplot(3,5,4)\n",
    "plot_leakage(+0.2, title=True)\n",
    "plt.subplot(3,5,5)\n",
    "plot_leakage(+0.4, title=True)\n",
    "\n",
    "plt.subplot(3,5,6)\n",
    "plot_leakage(-0.4, 'hanning', yaxis=True)\n",
    "plt.subplot(3,5,7)\n",
    "plot_leakage(-0.2, 'hanning')\n",
    "plt.subplot(3,5,8)\n",
    "plot_leakage(-0.0, 'hanning')\n",
    "plt.subplot(3,5,9)\n",
    "plot_leakage(+0.2, 'hanning')\n",
    "plt.subplot(3,5,10)\n",
    "plot_leakage(+0.4, 'hanning')\n",
    "\n",
    "plt.subplot(3,5,11)\n",
    "plot_leakage(-0.4, 'poisson', yaxis=True, xaxis=True)\n",
    "plt.subplot(3,5,12)\n",
    "plot_leakage(-0.2, 'poisson', xaxis=True)\n",
    "plt.subplot(3,5,13)\n",
    "plot_leakage(-0.0, 'poisson', xaxis=True)\n",
    "plt.subplot(3,5,14)\n",
    "plot_leakage(+0.2, 'poisson', xaxis=True)\n",
    "plt.subplot(3,5,15)\n",
    "plot_leakage(+0.4, 'poisson', xaxis=True)\n",
    "\n",
    "#plt.savefig('./fft_leakage.png', forrmat='png', dpi=50)\n",
    "plt.show()"
   ]
  },
  {
   "cell_type": "markdown",
   "metadata": {},
   "source": [
    "# Generate picture of real measurements"
   ]
  },
  {
   "cell_type": "code",
   "execution_count": null,
   "metadata": {},
   "outputs": [],
   "source": [
    "data = np.load('../../data/eccentric_screw_pump.npy')[7]\n",
    "p = data['average']['pressure_bar']\n",
    "rot = data['average']['rotation_hz']\n",
    "rate = data['pressure']['samplerate']\n",
    "mdata = data['pressure']['data']"
   ]
  },
  {
   "cell_type": "code",
   "execution_count": null,
   "metadata": {},
   "outputs": [],
   "source": [
    "plt.figure(figsize=(20,3)).suptitle('Time series and fourier transformation of measured data with pump speed {:3.2f} Hz and sampling rate {:d} Hz'.format(rot, rate))\n",
    "\n",
    "plt.subplot(1,2,1)\n",
    "plt.xlabel('Time [s]')\n",
    "plt.ylabel('Pressure [bar]')\n",
    "plt.plot(np.arange(len(mdata))/rate, mdata)\n",
    "\n",
    "plt.subplot(1,2,2)\n",
    "plt.xlabel('Frequency [Hz]')\n",
    "plt.ylabel('Amplitude [bar]')\n",
    "plt.stem(np.abs(fft(mdata))[0:128])\n",
    "\n",
    "#plt.savefig('./measurements.png', forrmat='png', dpi=50)\n",
    "plt.show()"
   ]
  },
  {
   "cell_type": "markdown",
   "metadata": {},
   "source": [
    "# Read runstats of training"
   ]
  },
  {
   "cell_type": "code",
   "execution_count": null,
   "metadata": {},
   "outputs": [],
   "source": [
    "rs = np.load('../../results/tucana5.4_runstats.npy').item()\n",
    "print('Mean training time per epoch = {:6.2f} sec'.format(np.mean(rs['time'])))"
   ]
  },
  {
   "cell_type": "markdown",
   "metadata": {},
   "source": [
    "```\n",
    "Copyright 2018 FAU-iPAT (http://ipat.uni-erlangen.de/)\n",
    "\n",
    "Licensed under the Apache License, Version 2.0 (the \"License\");\n",
    "you may not use this file except in compliance with the License.\n",
    "You may obtain a copy of the License at\n",
    "\n",
    "    http://www.apache.org/licenses/LICENSE-2.0\n",
    "\n",
    "Unless required by applicable law or agreed to in writing, software\n",
    "distributed under the License is distributed on an \"AS IS\" BASIS,\n",
    "WITHOUT WARRANTIES OR CONDITIONS OF ANY KIND, either express or implied.\n",
    "See the License for the specific language governing permissions and\n",
    "limitations under the License.\n",
    "```"
   ]
  }
 ],
 "metadata": {
  "kernelspec": {
   "display_name": "Python 3",
   "language": "python",
   "name": "python3"
  },
  "language_info": {
   "codemirror_mode": {
    "name": "ipython",
    "version": 3
   },
   "file_extension": ".py",
   "mimetype": "text/x-python",
   "name": "python",
   "nbconvert_exporter": "python",
   "pygments_lexer": "ipython3",
   "version": "3.6.3"
  }
 },
 "nbformat": 4,
 "nbformat_minor": 2
}
