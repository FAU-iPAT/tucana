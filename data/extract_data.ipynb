{
 "cells": [
  {
   "cell_type": "markdown",
   "metadata": {},
   "source": [
    "```\n",
    "Copyright 2018 FAU-iPAT (http://ipat.uni-erlangen.de/)\n",
    "```"
   ]
  },
  {
   "cell_type": "markdown",
   "metadata": {},
   "source": [
    "# Data extraction\n",
    "This notebook loads all data from the analytically created time signal dataset (available at https://github.com/FAU-iPAT) in the ```./data.big.source/``` directory and processes those data to be more easily usable for training of the keras neural net model. \n",
    "\n",
    "The resulting data are stored to a series of subdirectories in the ```./data.big.training/``` directory. Stored data include the complex valued FFT transformations using different window functions (rectangle, bartlett, hanning, meyer wavelet, poisson), an answer vector counting the frequency peaks in each FFT bin and a configuration dictionary containing additional information about each data entry."
   ]
  },
  {
   "cell_type": "code",
   "execution_count": null,
   "metadata": {},
   "outputs": [],
   "source": [
    "import numpy as np\n",
    "import hashlib"
   ]
  },
  {
   "cell_type": "code",
   "execution_count": null,
   "metadata": {},
   "outputs": [],
   "source": [
    "def md5(data):\n",
    "    return hashlib.md5(str(data).encode()).hexdigest()"
   ]
  },
  {
   "cell_type": "code",
   "execution_count": null,
   "metadata": {},
   "outputs": [],
   "source": [
    "path_source = './data.big.source/'\n",
    "path_target = './data.big.training/'\n",
    "# path_source = './data.source/'\n",
    "# path_target = './data.training/'"
   ]
  },
  {
   "cell_type": "markdown",
   "metadata": {},
   "source": [
    "### Prepare the dataset and directories"
   ]
  },
  {
   "cell_type": "code",
   "execution_count": null,
   "metadata": {},
   "outputs": [],
   "source": [
    "%run -i 'data_handler.py'\n",
    "dh = DataHandler(path_source)\n",
    "valid = dh.validate_dataset()\n",
    "if not valid: raise ValueError('Unknown dataset!')"
   ]
  },
  {
   "cell_type": "code",
   "execution_count": null,
   "metadata": {},
   "outputs": [],
   "source": [
    "dh.makedir(path_target)\n",
    "dh.makedir(path_target+'signal/')\n",
    "dh.makedir(path_target+'rectangle/')\n",
    "dh.makedir(path_target+'bartlett/')\n",
    "dh.makedir(path_target+'hanning/')\n",
    "dh.makedir(path_target+'meyer/')\n",
    "dh.makedir(path_target+'poisson/')\n",
    "dh.makedir(path_target+'answer/')\n",
    "dh.makedir(path_target+'config/')"
   ]
  },
  {
   "cell_type": "markdown",
   "metadata": {},
   "source": [
    "### Loop all files of the dataset and store extracted data"
   ]
  },
  {
   "cell_type": "code",
   "execution_count": null,
   "metadata": {},
   "outputs": [],
   "source": [
    "for idx in range(dh.file_count):\n",
    "    data = dh.load_source_file(idx)\n",
    "    signal, ffts, answer, config = dh.signal_to_training(data)    \n",
    "    print('Converted file {:4d} of {:4d} ... {}'.format(idx+1, dh.file_count, md5((ffts, answer))))    \n",
    "    np.save(path_target+'signal/batch_{:05d}.npy'.format(idx), signal)\n",
    "    np.save(path_target+'rectangle/batch_{:05d}.npy'.format(idx), ffts[0])\n",
    "    np.save(path_target+'bartlett/batch_{:05d}.npy'.format(idx), ffts[1])\n",
    "    np.save(path_target+'hanning/batch_{:05d}.npy'.format(idx), ffts[2])\n",
    "    np.save(path_target+'meyer/batch_{:05d}.npy'.format(idx), ffts[3])\n",
    "    np.save(path_target+'poisson/batch_{:05d}.npy'.format(idx), ffts[4])\n",
    "    np.save(path_target+'answer/batch_{:05d}.npy'.format(idx), answer)\n",
    "    np.save(path_target+'config/batch_{:05d}.npy'.format(idx), config)"
   ]
  },
  {
   "cell_type": "markdown",
   "metadata": {},
   "source": [
    "```\n",
    "Copyright 2018 FAU-iPAT (http://ipat.uni-erlangen.de/)\n",
    "\n",
    "Licensed under the Apache License, Version 2.0 (the \"License\");\n",
    "you may not use this file except in compliance with the License.\n",
    "You may obtain a copy of the License at\n",
    "\n",
    "    http://www.apache.org/licenses/LICENSE-2.0\n",
    "\n",
    "Unless required by applicable law or agreed to in writing, software\n",
    "distributed under the License is distributed on an \"AS IS\" BASIS,\n",
    "WITHOUT WARRANTIES OR CONDITIONS OF ANY KIND, either express or implied.\n",
    "See the License for the specific language governing permissions and\n",
    "limitations under the License.\n",
    "```"
   ]
  }
 ],
 "metadata": {
  "kernelspec": {
   "display_name": "Python 3",
   "language": "python",
   "name": "python3"
  },
  "language_info": {
   "codemirror_mode": {
    "name": "ipython",
    "version": 3
   },
   "file_extension": ".py",
   "mimetype": "text/x-python",
   "name": "python",
   "nbconvert_exporter": "python",
   "pygments_lexer": "ipython3",
   "version": "3.6.3"
  }
 },
 "nbformat": 4,
 "nbformat_minor": 2
}
