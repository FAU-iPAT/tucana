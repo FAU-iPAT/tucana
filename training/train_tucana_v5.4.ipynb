{
 "cells": [
  {
   "cell_type": "markdown",
   "metadata": {},
   "source": [
    "```\n",
    "Copyright 2018 FAU-iPAT (http://ipat.uni-erlangen.de/)\n",
    "```"
   ]
  },
  {
   "cell_type": "markdown",
   "metadata": {},
   "source": [
    "# Wrapper script to run a training\n",
    "This notebook simply calls upon the actual training script 'train_tucana_v5.4.py' with all the required parameters. This actual script than runs a training according to the given parameters. The actual training script is not a notebook, thus the training can be run from console."
   ]
  },
  {
   "cell_type": "code",
   "execution_count": null,
   "metadata": {},
   "outputs": [],
   "source": [
    "%%javascript\n",
    "IPython.OutputArea.prototype._should_scroll = function(lines) {\n",
    "    return false;\n",
    "}"
   ]
  },
  {
   "cell_type": "code",
   "execution_count": null,
   "metadata": {
    "scrolled": false
   },
   "outputs": [],
   "source": [
    "%run -i 'train_tucana_v5.4.py' \\\\\n",
    "--modelfile '../models/tucana_v5.4.json' \\\\\n",
    "--databasepath '../data/data.big.training/' \\\\\n",
    "--fileformat 'batch_{0:05d}.npy' \\\\\n",
    "--resultpath '../results/data.windows/rh/' \\\\\n",
    "--batchsize 128 \\\\\n",
    "--epochs 150 \\\\\n",
    "--initialepoch 0 \\\\\n",
    "--verbose 1 \\\\\n",
    "--checkpoint 1 \\\\\n",
    "--histogramfreq 0 \\\\\n",
    "--maxfilecount 1024 \\\\\n",
    "--userectangle 1 --usebartlett 0 --usehanning 1 --usemeyer 0 --usepoisson 0 \\\\\n",
    "--mindist 0.0 \\\\\n",
    "--nocache 0"
   ]
  },
  {
   "cell_type": "markdown",
   "metadata": {},
   "source": [
    "```\n",
    "Copyright 2018 FAU-iPAT (http://ipat.uni-erlangen.de/)\n",
    "\n",
    "Licensed under the Apache License, Version 2.0 (the \"License\");\n",
    "you may not use this file except in compliance with the License.\n",
    "You may obtain a copy of the License at\n",
    "\n",
    "    http://www.apache.org/licenses/LICENSE-2.0\n",
    "\n",
    "Unless required by applicable law or agreed to in writing, software\n",
    "distributed under the License is distributed on an \"AS IS\" BASIS,\n",
    "WITHOUT WARRANTIES OR CONDITIONS OF ANY KIND, either express or implied.\n",
    "See the License for the specific language governing permissions and\n",
    "limitations under the License.\n",
    "```"
   ]
  }
 ],
 "metadata": {
  "kernelspec": {
   "display_name": "Python 3",
   "language": "python",
   "name": "python3"
  },
  "language_info": {
   "codemirror_mode": {
    "name": "ipython",
    "version": 3
   },
   "file_extension": ".py",
   "mimetype": "text/x-python",
   "name": "python",
   "nbconvert_exporter": "python",
   "pygments_lexer": "ipython3",
   "version": "3.6.3"
  }
 },
 "nbformat": 4,
 "nbformat_minor": 2
}
